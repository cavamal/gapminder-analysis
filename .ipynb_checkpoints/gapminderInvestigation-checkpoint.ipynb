{
 "cells": [
  {
   "cell_type": "markdown",
   "metadata": {},
   "source": [
    "## Titans or Shoestrings - Government Size \n",
    "\n",
    "Gapminder aggregates a number of datasets from various sources around the world, outlining basic statics about our lives. Government plays a large role in any person's life. How big a role should the government play? \n",
    "\n",
    "There's a constant battle about size of government amongst Canadian and American politics. A big government is often associated with a grey bureaucrat sitting behind a pane of safety glass laboriously applying stamps in triplicate while a line-up winds out on to the street. There are others who view an active and appropriately sized government as a necessary member of any wealthy society, that the institution is as much a bastion of civilization as the tenets of its politics. Unfortunately, neither narrative gives an obvious answer to the question. \n",
    "\n",
    "Is there a better way to answer the question than more politics? Can some perspective give us some help here? \n",
    "\n",
    "Defining governmental success is monumentally difficult, but we can start investigatin some initial trends and ideas. A government does a lot of things and you can measure it a lot of ways, but if we were going out to the store to shop for a government, what would be the basic items we'd look for? \n",
    "\n",
    "Let's start with one of the core premises that any state gives its people - You'll live long, happy, secure lives with us. Oh, and you'll pay taxes. Lots of taxes. \n",
    "\n",
    "Taxes and life expectancy are any easy number to assess and record, but how do you quantify happiness, security? For the purposes of this investigation, I'm going to assume that we can answer those questions by \"at least I'm not poor\". Poverty represents a large indicator for insecurity and unhappiness, and is also relatively quantifiable. \n",
    "\n",
    "### Indicators\n",
    "\n",
    "Initially, we will review four indicators: \n",
    "* Tax revenue, as a % of GDP \n",
    "* GDP per capita (US$, inflation adjusted)\n",
    "* Poverty, as compared to nationally defined lines \n",
    "* Life expectancy\n",
    "\n",
    "These indicators represent the size of government, general economic efficacy of the people there, their livelihood, and how long they can expect to enjoy that livelihood. These aren't perfect indicators, but they're a start. \n",
    "\n",
    "### Scope of Investigation\n",
    "\n",
    "This investigation will be limited to simple statistics and graphics, for the purposes of exercise. \n",
    "\n",
    "### Where's all this data coming from?\n",
    "Gapminders (https://www.gapminder.org/data/). Data was taken from their newer database, and at the time of this project, extends up to 2017/2018 depending on the data set. \n",
    "\n",
    "\n",
    "* *Life Expectancy*, https://www.gapminder.org/data/documentation/gd004/\n",
    "* *Tax Revenue*, https://data.worldbank.org/indicator/GC.TAX.TOTL.GD.ZS [Appears to be broken? Dig in later]\n",
    "* *GDP per capita*, https://data.worldbank.org/indicator/NY.GDP.PCAP.KD [Appears to be broken? Dig in later]\n",
    "* *Poverty, against national average*, http://go.worldbank.org/B53SONGPA0 [Also broken?] \n",
    "\n"
   ]
  },
  {
   "cell_type": "code",
   "execution_count": 1,
   "metadata": {},
   "outputs": [],
   "source": [
    "#usual imports and data grab\n",
    "import pandas as pd\n",
    "import matplotlib.pyplot as plt\n",
    "from functools import reduce\n",
    "\n",
    "%matplotlib inline\n",
    "\n",
    "df_life = pd.read_csv('data/life_expectancy_years.csv') #life expectancy data set\n",
    "df_gdp = pd.read_csv('data/gdppercapita_us_inflation_adjusted.csv') #GDP per capita, in US$, inflation adjusted\n",
    "df_tax = pd.read_csv('data/tax_revenue_percent_of_gdp.csv') # Tax revenue as a % of GDP \n",
    "df_pov = pd.read_csv('data/alternative_poverty_percent_below_nationally_defined_poverty.csv') # % of people living below national poverty lines"
   ]
  },
  {
   "cell_type": "markdown",
   "metadata": {},
   "source": [
    "Let's see if we need to do any data cleaning for each data set. "
   ]
  },
  {
   "cell_type": "code",
   "execution_count": 2,
   "metadata": {},
   "outputs": [
    {
     "data": {
      "text/plain": [
       "(           geo  1800  1801  1802  1803  1804  1805  1806  1807  1808  ...   \\\n",
       " 0  Afghanistan  28.2  28.2  28.2  28.2  28.2  28.2  28.1  28.1  28.1  ...    \n",
       " 1      Albania  35.4  35.4  35.4  35.4  35.4  35.4  35.4  35.4  35.4  ...    \n",
       " 2      Algeria  28.8  28.8  28.8  28.8  28.8  28.8  28.8  28.8  28.8  ...    \n",
       " \n",
       "    2009  2010  2011  2012  2013  2014  2015  2016  2017  2018  \n",
       " 0  55.7  56.2  56.7  57.2  57.7  57.8  57.9  58.0  58.4  58.7  \n",
       " 1  75.9  76.3  76.7  77.0  77.2  77.4  77.6  77.7  77.9  78.0  \n",
       " 2  76.3  76.5  76.7  76.8  77.0  77.1  77.3  77.4  77.6  77.9  \n",
       " \n",
       " [3 rows x 220 columns],\n",
       " (187, 220),\n",
       " array([dtype('O'), dtype('float64')], dtype=object))"
      ]
     },
     "execution_count": 2,
     "metadata": {},
     "output_type": "execute_result"
    }
   ],
   "source": [
    "df_life.head(3), df_life.shape, df_life.dtypes.unique() #checking roughly how the data looks, its overall size and layout"
   ]
  },
  {
   "cell_type": "markdown",
   "metadata": {},
   "source": [
    "Our dataset consists of 219 years of data, over 187 countries.  Are we missing any data? "
   ]
  },
  {
   "cell_type": "code",
   "execution_count": 3,
   "metadata": {},
   "outputs": [
    {
     "data": {
      "text/plain": [
       "516"
      ]
     },
     "execution_count": 3,
     "metadata": {},
     "output_type": "execute_result"
    }
   ],
   "source": [
    "df_life.isnull().sum().sum() #checking how many missing values, in total, there are"
   ]
  },
  {
   "cell_type": "markdown",
   "metadata": {},
   "source": [
    "Looks like we're missing about 516 datapoints.  Let's look at what we're missing."
   ]
  },
  {
   "cell_type": "code",
   "execution_count": 4,
   "metadata": {},
   "outputs": [
    {
     "data": {
      "text/html": [
       "<div>\n",
       "<style scoped>\n",
       "    .dataframe tbody tr th:only-of-type {\n",
       "        vertical-align: middle;\n",
       "    }\n",
       "\n",
       "    .dataframe tbody tr th {\n",
       "        vertical-align: top;\n",
       "    }\n",
       "\n",
       "    .dataframe thead th {\n",
       "        text-align: right;\n",
       "    }\n",
       "</style>\n",
       "<table border=\"1\" class=\"dataframe\">\n",
       "  <thead>\n",
       "    <tr style=\"text-align: right;\">\n",
       "      <th></th>\n",
       "      <th>geo</th>\n",
       "      <th>1800</th>\n",
       "      <th>1801</th>\n",
       "      <th>1802</th>\n",
       "      <th>1803</th>\n",
       "      <th>1804</th>\n",
       "      <th>1805</th>\n",
       "      <th>1806</th>\n",
       "      <th>1807</th>\n",
       "      <th>1808</th>\n",
       "      <th>...</th>\n",
       "      <th>2009</th>\n",
       "      <th>2010</th>\n",
       "      <th>2011</th>\n",
       "      <th>2012</th>\n",
       "      <th>2013</th>\n",
       "      <th>2014</th>\n",
       "      <th>2015</th>\n",
       "      <th>2016</th>\n",
       "      <th>2017</th>\n",
       "      <th>2018</th>\n",
       "    </tr>\n",
       "  </thead>\n",
       "  <tbody>\n",
       "    <tr>\n",
       "      <th>3</th>\n",
       "      <td>Andorra</td>\n",
       "      <td>NaN</td>\n",
       "      <td>NaN</td>\n",
       "      <td>NaN</td>\n",
       "      <td>NaN</td>\n",
       "      <td>NaN</td>\n",
       "      <td>NaN</td>\n",
       "      <td>NaN</td>\n",
       "      <td>NaN</td>\n",
       "      <td>NaN</td>\n",
       "      <td>...</td>\n",
       "      <td>82.7</td>\n",
       "      <td>82.7</td>\n",
       "      <td>82.6</td>\n",
       "      <td>82.6</td>\n",
       "      <td>82.6</td>\n",
       "      <td>82.6</td>\n",
       "      <td>82.5</td>\n",
       "      <td>82.5</td>\n",
       "      <td>NaN</td>\n",
       "      <td>NaN</td>\n",
       "    </tr>\n",
       "    <tr>\n",
       "      <th>48</th>\n",
       "      <td>Dominica</td>\n",
       "      <td>NaN</td>\n",
       "      <td>NaN</td>\n",
       "      <td>NaN</td>\n",
       "      <td>NaN</td>\n",
       "      <td>NaN</td>\n",
       "      <td>NaN</td>\n",
       "      <td>NaN</td>\n",
       "      <td>NaN</td>\n",
       "      <td>NaN</td>\n",
       "      <td>...</td>\n",
       "      <td>73.4</td>\n",
       "      <td>73.0</td>\n",
       "      <td>73.0</td>\n",
       "      <td>72.9</td>\n",
       "      <td>72.7</td>\n",
       "      <td>72.7</td>\n",
       "      <td>71.7</td>\n",
       "      <td>73.0</td>\n",
       "      <td>NaN</td>\n",
       "      <td>NaN</td>\n",
       "    </tr>\n",
       "    <tr>\n",
       "      <th>105</th>\n",
       "      <td>Marshall Islands</td>\n",
       "      <td>NaN</td>\n",
       "      <td>NaN</td>\n",
       "      <td>NaN</td>\n",
       "      <td>NaN</td>\n",
       "      <td>NaN</td>\n",
       "      <td>NaN</td>\n",
       "      <td>NaN</td>\n",
       "      <td>NaN</td>\n",
       "      <td>NaN</td>\n",
       "      <td>...</td>\n",
       "      <td>63.5</td>\n",
       "      <td>63.7</td>\n",
       "      <td>63.9</td>\n",
       "      <td>64.1</td>\n",
       "      <td>64.3</td>\n",
       "      <td>64.5</td>\n",
       "      <td>64.7</td>\n",
       "      <td>65.0</td>\n",
       "      <td>NaN</td>\n",
       "      <td>NaN</td>\n",
       "    </tr>\n",
       "  </tbody>\n",
       "</table>\n",
       "<p>3 rows × 220 columns</p>\n",
       "</div>"
      ],
      "text/plain": [
       "                  geo  1800  1801  1802  1803  1804  1805  1806  1807  1808  \\\n",
       "3             Andorra   NaN   NaN   NaN   NaN   NaN   NaN   NaN   NaN   NaN   \n",
       "48           Dominica   NaN   NaN   NaN   NaN   NaN   NaN   NaN   NaN   NaN   \n",
       "105  Marshall Islands   NaN   NaN   NaN   NaN   NaN   NaN   NaN   NaN   NaN   \n",
       "\n",
       "     ...   2009  2010  2011  2012  2013  2014  2015  2016  2017  2018  \n",
       "3    ...   82.7  82.7  82.6  82.6  82.6  82.6  82.5  82.5   NaN   NaN  \n",
       "48   ...   73.4  73.0  73.0  72.9  72.7  72.7  71.7  73.0   NaN   NaN  \n",
       "105  ...   63.5  63.7  63.9  64.1  64.3  64.5  64.7  65.0   NaN   NaN  \n",
       "\n",
       "[3 rows x 220 columns]"
      ]
     },
     "execution_count": 4,
     "metadata": {},
     "output_type": "execute_result"
    }
   ],
   "source": [
    "df_life[df_life.isnull().any(axis=1)]"
   ]
  },
  {
   "cell_type": "markdown",
   "metadata": {},
   "source": [
    "Looks like we're missing some years of data from three countries. Not much to worry about here, so let's continue. "
   ]
  },
  {
   "cell_type": "code",
   "execution_count": 5,
   "metadata": {},
   "outputs": [
    {
     "data": {
      "text/plain": [
       "(           geo    1960    1961    1962    1963    1964    1965    1966  \\\n",
       " 0  Afghanistan     NaN     NaN     NaN     NaN     NaN     NaN     NaN   \n",
       " 1      Albania     NaN     NaN     NaN     NaN     NaN     NaN     NaN   \n",
       " 2      Algeria  2470.0  2080.0  1630.0  2130.0  2200.0  2280.0  2110.0   \n",
       " \n",
       "      1967    1968   ...      2008    2009  2010    2011    2012    2013  \\\n",
       " 0     NaN     NaN   ...     445.0   525.0   553   569.0   630.0   634.0   \n",
       " 1     NaN     NaN   ...    3780.0  3930.0  4090  4210.0  4280.0  4330.0   \n",
       " 2  2240.0  2410.0   ...    4390.0  4390.0  4460  4500.0  4560.0  4600.0   \n",
       " \n",
       "      2014    2015    2016    2017  \n",
       " 0   630.0   620.0   618.0   618.0  \n",
       " 1  4410.0  4520.0  4680.0  4870.0  \n",
       " 2  4680.0  4760.0  4830.0  4830.0  \n",
       " \n",
       " [3 rows x 59 columns],\n",
       " (190, 59),\n",
       " array([dtype('O'), dtype('float64'), dtype('int64')], dtype=object),\n",
       " 2484)"
      ]
     },
     "execution_count": 5,
     "metadata": {},
     "output_type": "execute_result"
    }
   ],
   "source": [
    "df_gdp.head(3), df_gdp.shape, df_gdp.dtypes.unique(), df_gdp.isnull().sum().sum() #checking roughly how the data looks, its overall size and layout"
   ]
  },
  {
   "cell_type": "markdown",
   "metadata": {},
   "source": [
    "Some more obvious missing data here. This isn't particularly surprising, given the fact some of these nations wouldn't exist as they do now.\n",
    "\n",
    "There are some issues with datatype incongruency in this dataset, which I'd like to look at more carefully to see if it'll cause us any problems. It looks like it's just a difference between integers and floats, whcih"
   ]
  },
  {
   "cell_type": "code",
   "execution_count": 6,
   "metadata": {},
   "outputs": [
    {
     "data": {
      "text/plain": [
       "2010    180\n",
       "dtype: int64"
      ]
     },
     "execution_count": 6,
     "metadata": {},
     "output_type": "execute_result"
    }
   ],
   "source": [
    "df_gdp.select_dtypes(include ='int64').nunique() #checking where our weird data is"
   ]
  },
  {
   "cell_type": "raw",
   "metadata": {},
   "source": [
    "Looks like our 2010 data is all ints. I'm going to swap them over because at this point, I don't have the experience to say if it'll cause a problem or not (I don't suspect that it will, but why risk it?)"
   ]
  },
  {
   "cell_type": "code",
   "execution_count": 7,
   "metadata": {},
   "outputs": [
    {
     "data": {
      "text/plain": [
       "array([dtype('O'), dtype('float64')], dtype=object)"
      ]
     },
     "execution_count": 7,
     "metadata": {},
     "output_type": "execute_result"
    }
   ],
   "source": [
    "df_gdp['2010'] =df_gdp['2010'].astype('float64'); #reassigning datatypes\n",
    "df_gdp.dtypes.unique()"
   ]
  },
  {
   "cell_type": "markdown",
   "metadata": {},
   "source": [
    "On to the next set. \n",
    "\n"
   ]
  },
  {
   "cell_type": "code",
   "execution_count": 8,
   "metadata": {},
   "outputs": [
    {
     "data": {
      "text/plain": [
       "(           geo  1972  1973  1974  1975  1976  1977  1978  1979  1980  ...   \\\n",
       " 0  Afghanistan   NaN   NaN   NaN   NaN   NaN   NaN   NaN   NaN   NaN  ...    \n",
       " 1      Albania   NaN   NaN   NaN   NaN   NaN   NaN   NaN   NaN   NaN  ...    \n",
       " 2      Algeria   NaN   NaN   NaN   NaN   NaN   NaN   NaN   NaN   NaN  ...    \n",
       " \n",
       "     2008   2009   2010   2011   2012   2013   2014   2015  2016  2017  \n",
       " 0   6.04   8.44   9.12   8.85   7.47   7.08   6.84   7.55   NaN   NaN  \n",
       " 1    NaN    NaN    NaN  18.00  17.50  16.50  18.30  18.50  17.6   NaN  \n",
       " 2  45.30  35.10  34.40  37.20    NaN    NaN    NaN    NaN   NaN   NaN  \n",
       " \n",
       " [3 rows x 47 columns],\n",
       " (161, 47),\n",
       " array([dtype('O'), dtype('float64')], dtype=object),\n",
       " 3523)"
      ]
     },
     "execution_count": 8,
     "metadata": {},
     "output_type": "execute_result"
    }
   ],
   "source": [
    "df_tax.head(3), df_tax.shape, df_tax.dtypes.unique(), df_tax.isnull().sum().sum() #checking roughly how the data looks, its overall size and layout"
   ]
  },
  {
   "cell_type": "raw",
   "metadata": {},
   "source": [
    "More obvious missing data, but our datatypes look OK. "
   ]
  },
  {
   "cell_type": "code",
   "execution_count": 9,
   "metadata": {},
   "outputs": [
    {
     "data": {
      "text/plain": [
       "(           geo  1985  1986  1987  1988  1989  1990  1991  1992  1993  ...   \\\n",
       " 0  Afghanistan   NaN   NaN   NaN   NaN   NaN   NaN   NaN   NaN   NaN  ...    \n",
       " 1      Albania   NaN   NaN   NaN   NaN   NaN   NaN   NaN   NaN   NaN  ...    \n",
       " 2      Algeria   NaN   NaN   NaN   NaN   NaN   NaN   NaN   NaN   NaN  ...    \n",
       " \n",
       "    2008  2009  2010  2011  2012  2013  2014  2015  2016  2017  \n",
       " 0   NaN   NaN   NaN  35.8   NaN   NaN   NaN   NaN   NaN   NaN  \n",
       " 1  12.4   NaN   NaN   NaN  14.3   NaN   NaN   NaN   NaN   NaN  \n",
       " 2   NaN   NaN   NaN   5.5   NaN   NaN   NaN   NaN   NaN   NaN  \n",
       " \n",
       " [3 rows x 34 columns],\n",
       " (135, 34),\n",
       " array([dtype('O'), dtype('float64')], dtype=object),\n",
       " 3682)"
      ]
     },
     "execution_count": 9,
     "metadata": {},
     "output_type": "execute_result"
    }
   ],
   "source": [
    "df_pov.head(3), df_pov.shape, df_pov.dtypes.unique(), df_pov.isnull().sum().sum()#checking roughly how the data looks, its overall size and layout"
   ]
  },
  {
   "cell_type": "markdown",
   "metadata": {},
   "source": [
    "More missing data, but our datatypes look OK. "
   ]
  },
  {
   "cell_type": "markdown",
   "metadata": {},
   "source": [
    "As shown above, after cleaning, we're still missing a lot data from a number of countries. While there are avenues for cleaning data statistically, judging by the nature of the missing data, it would be unwise to handle these as anything other than null values for the time being.\n",
    "\n",
    "Each dataset also appears to be missing countries - 161 rows here, 135 rows there - suggesting that our ability to cross-examine certain countries will be limited. This seems like a logical next step - let's mash all of this data together and cut out anything not useful. \n",
    "\n",
    "Fortunately, all of our data is laid out in basically the same way. unfortunately, if we're going to mash it all together, then I'll want to append each yearly column with something unique. I'm also going to move the index over to the first column, to aid in later merging."
   ]
  },
  {
   "cell_type": "code",
   "execution_count": 10,
   "metadata": {},
   "outputs": [],
   "source": [
    "list_df = [df_life, df_gdp, df_tax, df_pov]"
   ]
  },
  {
   "cell_type": "code",
   "execution_count": 11,
   "metadata": {},
   "outputs": [],
   "source": [
    "for i in list_df:      #setting index to be geo column\n",
    "    i.set_index('geo',inplace=True) "
   ]
  },
  {
   "cell_type": "code",
   "execution_count": 12,
   "metadata": {},
   "outputs": [],
   "source": [
    "df_life.rename(columns= lambda x: x +'_life',inplace = True); # appending the short name of the dataset to each column. Don't run this more than once. \n",
    "df_gdp.rename(columns= lambda x: x +'_gdp',inplace = True);\n",
    "df_tax.rename(columns= lambda x: x +'_tax',inplace = True);\n",
    "df_pov.rename(columns= lambda x: x +'_pov',inplace = True);"
   ]
  },
  {
   "cell_type": "code",
   "execution_count": 13,
   "metadata": {},
   "outputs": [
    {
     "data": {
      "text/plain": [
       "('1801_life', '1961_gdp', '1973_tax', '1986_pov')"
      ]
     },
     "execution_count": 13,
     "metadata": {},
     "output_type": "execute_result"
    }
   ],
   "source": [
    "df_life.columns[1], df_gdp.columns[1], df_tax.columns[1], df_pov.columns[1] #checking if it worked."
   ]
  },
  {
   "cell_type": "code",
   "execution_count": 14,
   "metadata": {},
   "outputs": [],
   "source": [
    "df = reduce(lambda left,right: pd.merge(left,right, on=['geo'], how='outer'), list_df)"
   ]
  },
  {
   "cell_type": "code",
   "execution_count": 15,
   "metadata": {},
   "outputs": [
    {
     "data": {
      "text/plain": [
       "Index(['1800_life', '1801_life', '1802_life', '1803_life', '1804_life',\n",
       "       '1805_life', '1806_life', '1807_life', '1808_life', '1809_life',\n",
       "       ...\n",
       "       '2008_pov', '2009_pov', '2010_pov', '2011_pov', '2012_pov', '2013_pov',\n",
       "       '2014_pov', '2015_pov', '2016_pov', '2017_pov'],\n",
       "      dtype='object', length=356)"
      ]
     },
     "execution_count": 15,
     "metadata": {},
     "output_type": "execute_result"
    }
   ],
   "source": [
    "df.columns"
   ]
  },
  {
   "cell_type": "code",
   "execution_count": 16,
   "metadata": {},
   "outputs": [
    {
     "name": "stdout",
     "output_type": "stream",
     "text": [
      "356\n"
     ]
    }
   ],
   "source": [
    "#checking to see if we got all the data that I wanted \n",
    "count = 0;\n",
    "for frame in list_df:\n",
    "    count = count + len(frame.columns)\n",
    "else:\n",
    "    print(count)"
   ]
  },
  {
   "cell_type": "code",
   "execution_count": 17,
   "metadata": {},
   "outputs": [
    {
     "name": "stdout",
     "output_type": "stream",
     "text": [
      "194\n"
     ]
    }
   ],
   "source": [
    "#getting a list of unique values to make sure I have it all. \n",
    "arr = set()\n",
    "brr=[]\n",
    "for frame in list_df:\n",
    "    for i in range (len(frame.index)):\n",
    "        brr = frame.index.tolist()\n",
    "        arr.add(brr[i])\n",
    "else:\n",
    "    print(len(arr))"
   ]
  },
  {
   "cell_type": "code",
   "execution_count": 18,
   "metadata": {},
   "outputs": [
    {
     "data": {
      "text/plain": [
       "(194, 356)"
      ]
     },
     "execution_count": 18,
     "metadata": {},
     "output_type": "execute_result"
    }
   ],
   "source": [
    "df.shape #check overall size of new dataset"
   ]
  },
  {
   "cell_type": "raw",
   "metadata": {},
   "source": [
    "Alright, looks like we've got everything in the same dataset. We already know that there's missing data. Now what to do about it? We currently have a set of data that has all the countries of the set, then four indicators mashed together. What kind fo things can we see right now?"
   ]
  },
  {
   "cell_type": "code",
   "execution_count": 22,
   "metadata": {},
   "outputs": [
    {
     "data": {
      "text/plain": [
       "<matplotlib.axes._subplots.AxesSubplot at 0x248380029b0>"
      ]
     },
     "execution_count": 22,
     "metadata": {},
     "output_type": "execute_result"
    },
    {
     "data": {
      "image/png": "[encoded data removed]",
      "text/plain": [
       "<Figure size 432x288 with 1 Axes>"
      ]
     },
     "metadata": {
      "needs_background": "light"
     },
     "output_type": "display_data"
    }
   ],
   "source": [
    "df.loc['Canada'].plot()"
   ]
  },
  {
   "cell_type": "code",
   "execution_count": 25,
   "metadata": {},
   "outputs": [
    {
     "data": {
      "text/plain": [
       "[<matplotlib.lines.Line2D at 0x248380cb7f0>]"
      ]
     },
     "execution_count": 25,
     "metadata": {},
     "output_type": "execute_result"
    },
    {
     "data": {
      "image/png": "[encoded data removed]",
      "text/plain": [
       "<Figure size 432x288 with 1 Axes>"
      ]
     },
     "metadata": {
      "needs_background": "light"
     },
     "output_type": "display_data"
    }
   ],
   "source": [
    "plt.plot(df_gdp.loc['Canada'])"
   ]
  },
  {
   "cell_type": "code",
   "execution_count": 26,
   "metadata": {},
   "outputs": [
    {
     "data": {
      "text/plain": [
       "[<matplotlib.lines.Line2D at 0x24838093710>]"
      ]
     },
     "execution_count": 26,
     "metadata": {},
     "output_type": "execute_result"
    },
    {
     "data": {
      "image/png": "[encoded data removed]",
      "text/plain": [
       "<Figure size 432x288 with 1 Axes>"
      ]
     },
     "metadata": {
      "needs_background": "light"
     },
     "output_type": "display_data"
    }
   ],
   "source": [
    "plt.plot(df_life.loc['Canada'])"
   ]
  },
  {
   "cell_type": "code",
   "execution_count": null,
   "metadata": {},
   "outputs": [],
   "source": [
    "plt.plot(df_)"
   ]
  }
 ],
 "metadata": {
  "kernelspec": {
   "display_name": "Python [conda env:dataInvestigation]",
   "language": "python",
   "name": "conda-env-dataInvestigation-py"
  },
  "language_info": {
   "codemirror_mode": {
    "name": "ipython",
    "version": 3
   },
   "file_extension": ".py",
   "mimetype": "text/x-python",
   "name": "python",
   "nbconvert_exporter": "python",
   "pygments_lexer": "ipython3",
   "version": "3.7.0"
  }
 },
 "nbformat": 4,
 "nbformat_minor": 2
}
