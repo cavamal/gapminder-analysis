{
 "cells": [
  {
   "cell_type": "markdown",
   "metadata": {},
   "source": [
    "## Titans or Shoestrings - Government Size \n",
    "\n",
    "Gapminder aggregates a number of datasets from various sources around the world, outlining basic statics about our lives. Government plays a large role in any person's life. How big a role should the government play? \n",
    "\n",
    "There's a constant battle about size of government amongst Canadian and American politics. A big government is often associated with a grey bureaucrat sitting behind a pane of safety glass laboriously applying stamps in triplicate while a line-up winds out on to the street. There are others who view an active and appropriately sized government as a necessary member of any wealthy society, that the institution is as much a bastion of civilization as the tenets of its politics. Unfortunately, neither narrative gives an obvious answer to the question. \n",
    "\n",
    "Is there a better way to answer the question than more politics? Can some perspective give us some help here? \n",
    "\n",
    "Defining governmental success is monumentally difficult, but we can start investigatin some initial trends and ideas. A government does a lot of things and you can measure it a lot of ways, but if we were going out to the store to shop for a government, what would be the basic items we'd look for? \n",
    "\n",
    "Let's start with one of the core premises that any state gives its people - You'll live long, happy, secure lives with us. Oh, and you'll pay taxes. Lots of taxes. \n",
    "\n",
    "Taxes and life expectancy are any easy number to assess and record, but how do you quantify happiness, security? For the purposes of this investigation, I'm going to assume that we can answer those questions by \"at least I'm not poor\". Poverty represents a large indicator for insecurity and unhappiness, and is also relatively quantifiable. \n",
    "\n",
    "### Indicators\n",
    "\n",
    "Initially, we will review four indicators: \n",
    "* Tax revenue, as a % of GDP \n",
    "* GDP per capita (US$, inflation adjusted)\n",
    "* Poverty, as compared to nationally defined lines \n",
    "* Life expectancy\n",
    "\n",
    "These indicators represent the size of government, general economic efficacy of the people there, their livelihood, and how long they can expect to enjoy that livelihood. These aren't perfect indicators, but they're a start. \n",
    "\n",
    "### Scope of Investigation\n",
    "\n",
    "This investigation will be limited to simple statistics and graphics, for the purposes of exercise. \n",
    "\n",
    "### Where's all this data coming from?\n",
    "Gapminders (https://www.gapminder.org/data/). Data was taken from their newer database, and at the time of this project, extends up to 2017/2018 depending on the data set. \n",
    "\n",
    "\n",
    "* *Life Expectancy*, https://www.gapminder.org/data/documentation/gd004/\n",
    "* *Tax Revenue*, https://data.worldbank.org/indicator/GC.TAX.TOTL.GD.ZS [Appears to be broken? Dig in later]\n",
    "* *GDP per capita*, https://data.worldbank.org/indicator/NY.GDP.PCAP.KD [Appears to be broken? Dig in later]\n",
    "* *Poverty, against national average*, http://go.worldbank.org/B53SONGPA0 [Also broken?] \n",
    "\n"
   ]
  },
  {
   "cell_type": "code",
   "execution_count": 29,
   "metadata": {},
   "outputs": [],
   "source": [
    "#usual imports and data grab\n",
    "import pandas as pd\n",
    "import matplotlib.pyplot as plt\n",
    "from functools import reduce\n",
    "from country_plot import country_plot\n",
    "\n",
    "%matplotlib inline\n",
    "\n",
    "df_life = pd.read_csv('data/life_expectancy_years.csv') #life expectancy data set\n",
    "df_gdp = pd.read_csv('data/gdppercapita_us_inflation_adjusted.csv') #GDP per capita, in US$, inflation adjusted\n",
    "df_tax = pd.read_csv('data/tax_revenue_percent_of_gdp.csv') # Tax revenue as a % of GDP \n",
    "df_pov = pd.read_csv('data/alternative_poverty_percent_below_nationally_defined_poverty.csv') # % of people living below national poverty lines"
   ]
  },
  {
   "cell_type": "markdown",
   "metadata": {},
   "source": [
    "Let's see if we need to do any data cleaning for each data set. "
   ]
  },
  {
   "cell_type": "code",
   "execution_count": 30,
   "metadata": {},
   "outputs": [
    {
     "data": {
      "text/plain": [
       "(           geo  1800  1801  1802  1803  1804  1805  1806  1807  1808  ...   \\\n",
       " 0  Afghanistan  28.2  28.2  28.2  28.2  28.2  28.2  28.1  28.1  28.1  ...    \n",
       " 1      Albania  35.4  35.4  35.4  35.4  35.4  35.4  35.4  35.4  35.4  ...    \n",
       " 2      Algeria  28.8  28.8  28.8  28.8  28.8  28.8  28.8  28.8  28.8  ...    \n",
       " \n",
       "    2009  2010  2011  2012  2013  2014  2015  2016  2017  2018  \n",
       " 0  55.7  56.2  56.7  57.2  57.7  57.8  57.9  58.0  58.4  58.7  \n",
       " 1  75.9  76.3  76.7  77.0  77.2  77.4  77.6  77.7  77.9  78.0  \n",
       " 2  76.3  76.5  76.7  76.8  77.0  77.1  77.3  77.4  77.6  77.9  \n",
       " \n",
       " [3 rows x 220 columns],\n",
       " (187, 220),\n",
       " array([dtype('O'), dtype('float64')], dtype=object))"
      ]
     },
     "execution_count": 30,
     "metadata": {},
     "output_type": "execute_result"
    }
   ],
   "source": [
    "df_life.head(3), df_life.shape, df_life.dtypes.unique() #checking roughly how the data looks, its overall size and layout"
   ]
  },
  {
   "cell_type": "markdown",
   "metadata": {},
   "source": [
    "Our dataset consists of 219 years of data, over 187 countries.  Are we missing any data? "
   ]
  },
  {
   "cell_type": "code",
   "execution_count": 31,
   "metadata": {},
   "outputs": [
    {
     "data": {
      "text/plain": [
       "516"
      ]
     },
     "execution_count": 31,
     "metadata": {},
     "output_type": "execute_result"
    }
   ],
   "source": [
    "df_life.isnull().sum().sum() #checking how many missing values, in total, there are"
   ]
  },
  {
   "cell_type": "markdown",
   "metadata": {},
   "source": [
    "Looks like we're missing about 516 datapoints.  Let's look at what we're missing."
   ]
  },
  {
   "cell_type": "code",
   "execution_count": 32,
   "metadata": {},
   "outputs": [
    {
     "data": {
      "text/html": [
       "<div>\n",
       "<style scoped>\n",
       "    .dataframe tbody tr th:only-of-type {\n",
       "        vertical-align: middle;\n",
       "    }\n",
       "\n",
       "    .dataframe tbody tr th {\n",
       "        vertical-align: top;\n",
       "    }\n",
       "\n",
       "    .dataframe thead th {\n",
       "        text-align: right;\n",
       "    }\n",
       "</style>\n",
       "<table border=\"1\" class=\"dataframe\">\n",
       "  <thead>\n",
       "    <tr style=\"text-align: right;\">\n",
       "      <th></th>\n",
       "      <th>geo</th>\n",
       "      <th>1800</th>\n",
       "      <th>1801</th>\n",
       "      <th>1802</th>\n",
       "      <th>1803</th>\n",
       "      <th>1804</th>\n",
       "      <th>1805</th>\n",
       "      <th>1806</th>\n",
       "      <th>1807</th>\n",
       "      <th>1808</th>\n",
       "      <th>...</th>\n",
       "      <th>2009</th>\n",
       "      <th>2010</th>\n",
       "      <th>2011</th>\n",
       "      <th>2012</th>\n",
       "      <th>2013</th>\n",
       "      <th>2014</th>\n",
       "      <th>2015</th>\n",
       "      <th>2016</th>\n",
       "      <th>2017</th>\n",
       "      <th>2018</th>\n",
       "    </tr>\n",
       "  </thead>\n",
       "  <tbody>\n",
       "    <tr>\n",
       "      <th>3</th>\n",
       "      <td>Andorra</td>\n",
       "      <td>NaN</td>\n",
       "      <td>NaN</td>\n",
       "      <td>NaN</td>\n",
       "      <td>NaN</td>\n",
       "      <td>NaN</td>\n",
       "      <td>NaN</td>\n",
       "      <td>NaN</td>\n",
       "      <td>NaN</td>\n",
       "      <td>NaN</td>\n",
       "      <td>...</td>\n",
       "      <td>82.7</td>\n",
       "      <td>82.7</td>\n",
       "      <td>82.6</td>\n",
       "      <td>82.6</td>\n",
       "      <td>82.6</td>\n",
       "      <td>82.6</td>\n",
       "      <td>82.5</td>\n",
       "      <td>82.5</td>\n",
       "      <td>NaN</td>\n",
       "      <td>NaN</td>\n",
       "    </tr>\n",
       "    <tr>\n",
       "      <th>48</th>\n",
       "      <td>Dominica</td>\n",
       "      <td>NaN</td>\n",
       "      <td>NaN</td>\n",
       "      <td>NaN</td>\n",
       "      <td>NaN</td>\n",
       "      <td>NaN</td>\n",
       "      <td>NaN</td>\n",
       "      <td>NaN</td>\n",
       "      <td>NaN</td>\n",
       "      <td>NaN</td>\n",
       "      <td>...</td>\n",
       "      <td>73.4</td>\n",
       "      <td>73.0</td>\n",
       "      <td>73.0</td>\n",
       "      <td>72.9</td>\n",
       "      <td>72.7</td>\n",
       "      <td>72.7</td>\n",
       "      <td>71.7</td>\n",
       "      <td>73.0</td>\n",
       "      <td>NaN</td>\n",
       "      <td>NaN</td>\n",
       "    </tr>\n",
       "    <tr>\n",
       "      <th>105</th>\n",
       "      <td>Marshall Islands</td>\n",
       "      <td>NaN</td>\n",
       "      <td>NaN</td>\n",
       "      <td>NaN</td>\n",
       "      <td>NaN</td>\n",
       "      <td>NaN</td>\n",
       "      <td>NaN</td>\n",
       "      <td>NaN</td>\n",
       "      <td>NaN</td>\n",
       "      <td>NaN</td>\n",
       "      <td>...</td>\n",
       "      <td>63.5</td>\n",
       "      <td>63.7</td>\n",
       "      <td>63.9</td>\n",
       "      <td>64.1</td>\n",
       "      <td>64.3</td>\n",
       "      <td>64.5</td>\n",
       "      <td>64.7</td>\n",
       "      <td>65.0</td>\n",
       "      <td>NaN</td>\n",
       "      <td>NaN</td>\n",
       "    </tr>\n",
       "  </tbody>\n",
       "</table>\n",
       "<p>3 rows × 220 columns</p>\n",
       "</div>"
      ],
      "text/plain": [
       "                  geo  1800  1801  1802  1803  1804  1805  1806  1807  1808  \\\n",
       "3             Andorra   NaN   NaN   NaN   NaN   NaN   NaN   NaN   NaN   NaN   \n",
       "48           Dominica   NaN   NaN   NaN   NaN   NaN   NaN   NaN   NaN   NaN   \n",
       "105  Marshall Islands   NaN   NaN   NaN   NaN   NaN   NaN   NaN   NaN   NaN   \n",
       "\n",
       "     ...   2009  2010  2011  2012  2013  2014  2015  2016  2017  2018  \n",
       "3    ...   82.7  82.7  82.6  82.6  82.6  82.6  82.5  82.5   NaN   NaN  \n",
       "48   ...   73.4  73.0  73.0  72.9  72.7  72.7  71.7  73.0   NaN   NaN  \n",
       "105  ...   63.5  63.7  63.9  64.1  64.3  64.5  64.7  65.0   NaN   NaN  \n",
       "\n",
       "[3 rows x 220 columns]"
      ]
     },
     "execution_count": 32,
     "metadata": {},
     "output_type": "execute_result"
    }
   ],
   "source": [
    "df_life[df_life.isnull().any(axis=1)]"
   ]
  },
  {
   "cell_type": "markdown",
   "metadata": {},
   "source": [
    "Looks like we're missing some years of data from three countries. Not much to worry about here, so let's continue. "
   ]
  },
  {
   "cell_type": "code",
   "execution_count": 33,
   "metadata": {},
   "outputs": [
    {
     "data": {
      "text/plain": [
       "(           geo    1960    1961    1962    1963    1964    1965    1966  \\\n",
       " 0  Afghanistan     NaN     NaN     NaN     NaN     NaN     NaN     NaN   \n",
       " 1      Albania     NaN     NaN     NaN     NaN     NaN     NaN     NaN   \n",
       " 2      Algeria  2470.0  2080.0  1630.0  2130.0  2200.0  2280.0  2110.0   \n",
       " \n",
       "      1967    1968   ...      2008    2009  2010    2011    2012    2013  \\\n",
       " 0     NaN     NaN   ...     445.0   525.0   553   569.0   630.0   634.0   \n",
       " 1     NaN     NaN   ...    3780.0  3930.0  4090  4210.0  4280.0  4330.0   \n",
       " 2  2240.0  2410.0   ...    4390.0  4390.0  4460  4500.0  4560.0  4600.0   \n",
       " \n",
       "      2014    2015    2016    2017  \n",
       " 0   630.0   620.0   618.0   618.0  \n",
       " 1  4410.0  4520.0  4680.0  4870.0  \n",
       " 2  4680.0  4760.0  4830.0  4830.0  \n",
       " \n",
       " [3 rows x 59 columns],\n",
       " (190, 59),\n",
       " array([dtype('O'), dtype('float64'), dtype('int64')], dtype=object),\n",
       " 2484)"
      ]
     },
     "execution_count": 33,
     "metadata": {},
     "output_type": "execute_result"
    }
   ],
   "source": [
    "df_gdp.head(3), df_gdp.shape, df_gdp.dtypes.unique(), df_gdp.isnull().sum().sum() #checking roughly how the data looks, its overall size and layout"
   ]
  },
  {
   "cell_type": "markdown",
   "metadata": {},
   "source": [
    "Some more obvious missing data here. This isn't particularly surprising, given the fact some of these nations wouldn't exist as they do now.\n",
    "\n",
    "There are some issues with datatype incongruency in this dataset, which I'd like to look at more carefully to see if it'll cause us any problems. It looks like it's just a difference between integers and floats, whcih"
   ]
  },
  {
   "cell_type": "code",
   "execution_count": 34,
   "metadata": {},
   "outputs": [
    {
     "data": {
      "text/plain": [
       "2010    180\n",
       "dtype: int64"
      ]
     },
     "execution_count": 34,
     "metadata": {},
     "output_type": "execute_result"
    }
   ],
   "source": [
    "df_gdp.select_dtypes(include ='int64').nunique() #checking where our weird data is"
   ]
  },
  {
   "cell_type": "raw",
   "metadata": {},
   "source": [
    "Looks like our 2010 data is all ints. I'm going to swap them over because at this point, I don't have the experience to say if it'll cause a problem or not (I don't suspect that it will, but why risk it?)"
   ]
  },
  {
   "cell_type": "code",
   "execution_count": 35,
   "metadata": {},
   "outputs": [
    {
     "data": {
      "text/plain": [
       "array([dtype('O'), dtype('float64')], dtype=object)"
      ]
     },
     "execution_count": 35,
     "metadata": {},
     "output_type": "execute_result"
    }
   ],
   "source": [
    "df_gdp['2010'] =df_gdp['2010'].astype('float64'); #reassigning datatypes\n",
    "df_gdp.dtypes.unique()"
   ]
  },
  {
   "cell_type": "markdown",
   "metadata": {},
   "source": [
    "On to the next set. \n",
    "\n"
   ]
  },
  {
   "cell_type": "code",
   "execution_count": 36,
   "metadata": {},
   "outputs": [
    {
     "data": {
      "text/plain": [
       "(           geo  1972  1973  1974  1975  1976  1977  1978  1979  1980  ...   \\\n",
       " 0  Afghanistan   NaN   NaN   NaN   NaN   NaN   NaN   NaN   NaN   NaN  ...    \n",
       " 1      Albania   NaN   NaN   NaN   NaN   NaN   NaN   NaN   NaN   NaN  ...    \n",
       " 2      Algeria   NaN   NaN   NaN   NaN   NaN   NaN   NaN   NaN   NaN  ...    \n",
       " \n",
       "     2008   2009   2010   2011   2012   2013   2014   2015  2016  2017  \n",
       " 0   6.04   8.44   9.12   8.85   7.47   7.08   6.84   7.55   NaN   NaN  \n",
       " 1    NaN    NaN    NaN  18.00  17.50  16.50  18.30  18.50  17.6   NaN  \n",
       " 2  45.30  35.10  34.40  37.20    NaN    NaN    NaN    NaN   NaN   NaN  \n",
       " \n",
       " [3 rows x 47 columns],\n",
       " (161, 47),\n",
       " array([dtype('O'), dtype('float64')], dtype=object),\n",
       " 3523)"
      ]
     },
     "execution_count": 36,
     "metadata": {},
     "output_type": "execute_result"
    }
   ],
   "source": [
    "df_tax.head(3), df_tax.shape, df_tax.dtypes.unique(), df_tax.isnull().sum().sum() #checking roughly how the data looks, its overall size and layout"
   ]
  },
  {
   "cell_type": "raw",
   "metadata": {},
   "source": [
    "More obvious missing data, but our datatypes look OK. "
   ]
  },
  {
   "cell_type": "code",
   "execution_count": 37,
   "metadata": {},
   "outputs": [
    {
     "data": {
      "text/plain": [
       "(           geo  1985  1986  1987  1988  1989  1990  1991  1992  1993  ...   \\\n",
       " 0  Afghanistan   NaN   NaN   NaN   NaN   NaN   NaN   NaN   NaN   NaN  ...    \n",
       " 1      Albania   NaN   NaN   NaN   NaN   NaN   NaN   NaN   NaN   NaN  ...    \n",
       " 2      Algeria   NaN   NaN   NaN   NaN   NaN   NaN   NaN   NaN   NaN  ...    \n",
       " \n",
       "    2008  2009  2010  2011  2012  2013  2014  2015  2016  2017  \n",
       " 0   NaN   NaN   NaN  35.8   NaN   NaN   NaN   NaN   NaN   NaN  \n",
       " 1  12.4   NaN   NaN   NaN  14.3   NaN   NaN   NaN   NaN   NaN  \n",
       " 2   NaN   NaN   NaN   5.5   NaN   NaN   NaN   NaN   NaN   NaN  \n",
       " \n",
       " [3 rows x 34 columns],\n",
       " (135, 34),\n",
       " array([dtype('O'), dtype('float64')], dtype=object),\n",
       " 3682)"
      ]
     },
     "execution_count": 37,
     "metadata": {},
     "output_type": "execute_result"
    }
   ],
   "source": [
    "df_pov.head(3), df_pov.shape, df_pov.dtypes.unique(), df_pov.isnull().sum().sum()#checking roughly how the data looks, its overall size and layout"
   ]
  },
  {
   "cell_type": "markdown",
   "metadata": {},
   "source": [
    "More missing data, but our datatypes look OK. "
   ]
  },
  {
   "cell_type": "markdown",
   "metadata": {},
   "source": [
    "As shown above, after cleaning, we're still missing a lot data from a number of countries. While there are avenues for cleaning data statistically, judging by the nature of the missing data, it would be unwise to handle these as anything other than null values for the time being.\n",
    "\n",
    "Each dataset also appears to be missing countries - 161 rows here, 135 rows there - suggesting that our ability to cross-examine certain countries will be limited. This seems like a logical next step - let's mash all of this data together and cut out anything not useful. \n",
    "\n",
    "Fortunately, all of our data is laid out in basically the same way. unfortunately, if we're going to mash it all together, then I'll want to append each yearly column with something unique. I'm also going to move the index over to the first column, to aid in later merging."
   ]
  },
  {
   "cell_type": "code",
   "execution_count": 38,
   "metadata": {},
   "outputs": [],
   "source": [
    "list_df = [df_life, df_gdp, df_tax, df_pov]"
   ]
  },
  {
   "cell_type": "code",
   "execution_count": 39,
   "metadata": {},
   "outputs": [],
   "source": [
    "for i in list_df:      #setting index to be geo column\n",
    "    i.set_index('geo',inplace=True) "
   ]
  },
  {
   "cell_type": "markdown",
   "metadata": {},
   "source": [
    "There's no real point in displaying data that I don't have. As tax revenue is the item I want to show the most for, I should be using that as my limiting point for analysis. \n",
    "\n",
    "Time to set up some nicer looking plots, and test them against my country, and another country that's represented in all of the datasets. But let's get the mapping side of it sorted out first. "
   ]
  },
  {
   "cell_type": "code",
   "execution_count": 40,
   "metadata": {},
   "outputs": [
    {
     "data": {
      "text/plain": [
       "Index(['1972', '1973', '1974', '1975', '1976', '1977', '1978', '1979', '1980',\n",
       "       '1981', '1982', '1983', '1984', '1985', '1986', '1987', '1988', '1989',\n",
       "       '1990', '1991', '1992', '1993', '1994', '1995', '1996', '1997', '1998',\n",
       "       '1999', '2000', '2001', '2002', '2003', '2004', '2005', '2006', '2007',\n",
       "       '2008', '2009', '2010', '2011', '2012', '2013', '2014', '2015', '2016',\n",
       "       '2017'],\n",
       "      dtype='object')"
      ]
     },
     "execution_count": 40,
     "metadata": {},
     "output_type": "execute_result"
    }
   ],
   "source": [
    "df_tax.columns #checking what the earliest column is"
   ]
  },
  {
   "cell_type": "markdown",
   "metadata": {},
   "source": [
    "As our tax data only goes back to 1972, let's trim the rest of our datasets to start there for ease of graphing. I will be messing with the means for each country for those data sets, but I'm only really interested in the current comparison. So lets drop them."
   ]
  },
  {
   "cell_type": "code",
   "execution_count": null,
   "metadata": {},
   "outputs": [],
   "source": []
  },
  {
   "cell_type": "code",
   "execution_count": 41,
   "metadata": {},
   "outputs": [
    {
     "name": "stdout",
     "output_type": "stream",
     "text": [
      "1972\n",
      "1972\n",
      "1972\n"
     ]
    }
   ],
   "source": [
    "y = '1972' #search date\n",
    "\n",
    "#drop columns not included in the tax data (if possible)\n",
    "for frame in list_df:\n",
    "    if y in frame.columns.tolist():\n",
    "        a = frame.columns.tolist()\n",
    "        del a[a.index(y):len(a)]\n",
    "        frame.drop(a,axis=1,inplace = True)\n",
    "        print(frame.columns[0])\n",
    " \n"
   ]
  },
  {
   "cell_type": "markdown",
   "metadata": {},
   "source": [
    "Now that we've collated our data in to something meaningful, we need to deal with the differences in scales. The magnitude of each value is less important than its relative increase compared to its average value. This goes for life expectancy and GDP/Capita values. "
   ]
  },
  {
   "cell_type": "code",
   "execution_count": 42,
   "metadata": {},
   "outputs": [
    {
     "data": {
      "text/plain": [
       "geo\n",
       "Afghanistan                         510.937500\n",
       "Albania                            2768.947368\n",
       "Algeria                            3791.086957\n",
       "Andorra                           39984.782609\n",
       "Angola                             2428.421053\n",
       "Antigua and Barbuda               10379.512195\n",
       "Argentina                          8168.478261\n",
       "Armenia                            2376.821429\n",
       "Australia                         39991.304348\n",
       "Austria                           36667.391304\n",
       "Azerbaijan                         3505.714286\n",
       "Bahamas                           27139.130435\n",
       "Bahrain                           20710.526316\n",
       "Bangladesh                          525.543478\n",
       "Barbados                          14115.909091\n",
       "Belarus                            4195.357143\n",
       "Belgium                           35252.173913\n",
       "Belize                             3189.565217\n",
       "Benin                               669.565217\n",
       "Bhutan                             1334.605263\n",
       "Bolivia                            1688.260870\n",
       "Bosnia and Herzegovina             3715.666667\n",
       "Botswana                           4187.391304\n",
       "Brazil                             8807.173913\n",
       "Brunei                            40047.727273\n",
       "Bulgaria                           4992.631579\n",
       "Burkina Faso                        425.391304\n",
       "Burundi                             264.369565\n",
       "Cambodia                            648.200000\n",
       "Cameroon                           1309.739130\n",
       "                                      ...     \n",
       "St. Vincent and the Grenadines     4208.260870\n",
       "Sudan                              1083.434783\n",
       "Suriname                           7065.116279\n",
       "Swaziland                          2673.260870\n",
       "Sweden                            40760.869565\n",
       "Switzerland                       66265.789474\n",
       "Tajikistan                          786.363636\n",
       "Tanzania                            599.100000\n",
       "Thailand                           3145.434783\n",
       "Timor-Leste                        2836.666667\n",
       "Togo                                539.478261\n",
       "Tonga                              3101.891892\n",
       "Trinidad and Tobago               10595.000000\n",
       "Tunisia                            2784.565217\n",
       "Turkey                             7978.260870\n",
       "Turkmenistan                       3621.935484\n",
       "Tuvalu                             3018.571429\n",
       "Uganda                              439.361111\n",
       "Ukraine                            2814.516129\n",
       "United Arab Emirates              65058.139535\n",
       "United Kingdom                    31008.695652\n",
       "United States                     39113.043478\n",
       "Uruguay                            8613.260870\n",
       "Uzbekistan                         1121.903226\n",
       "Vanuatu                            2653.846154\n",
       "Venezuela                         13090.930233\n",
       "Vietnam                             892.411765\n",
       "Yemen                              1078.666667\n",
       "Zambia                             1235.304348\n",
       "Zimbabwe                           1099.978261\n",
       "Length: 190, dtype: float64"
      ]
     },
     "execution_count": 42,
     "metadata": {},
     "output_type": "execute_result"
    }
   ],
   "source": [
    "df_gdp.mean(axis=1)"
   ]
  },
  {
   "cell_type": "code",
   "execution_count": null,
   "metadata": {
    "scrolled": true
   },
   "outputs": [],
   "source": []
  },
  {
   "cell_type": "code",
   "execution_count": 43,
   "metadata": {},
   "outputs": [],
   "source": [
    "#attempts at iterating through my list of dataframes - need to dig in to this more to figure out why dataframes aren't iterating\n",
    "\n",
    "# list_df = [[frame.apply(lambda x: (x-x.min()) / (x.max()-x.min()))] for frame in list_df]\n",
    "#for frame in list_df:\n",
    "   # frame = frame.apply(lambda x: (x-x.min()) / (x.max()-x.min()))"
   ]
  },
  {
   "cell_type": "markdown",
   "metadata": {},
   "source": [
    "Let's normalize all of our data. Our poverty dataframe is already a percentage, and doesn't need the same adjustment. It does need to be converted. "
   ]
  },
  {
   "cell_type": "code",
   "execution_count": 44,
   "metadata": {},
   "outputs": [],
   "source": [
    "df_gdp = df_gdp.apply(lambda x: (x-x.min()) / (x.max()-x.min()))\n"
   ]
  },
  {
   "cell_type": "code",
   "execution_count": 45,
   "metadata": {},
   "outputs": [],
   "source": [
    "df_life = df_life.apply(lambda x: (x-x.min()) / (x.max()-x.min()))"
   ]
  },
  {
   "cell_type": "code",
   "execution_count": 46,
   "metadata": {},
   "outputs": [],
   "source": [
    "df_tax = df_tax.apply(lambda x: (x-x.min()) / (x.max()-x.min()))"
   ]
  },
  {
   "cell_type": "code",
   "execution_count": 47,
   "metadata": {},
   "outputs": [],
   "source": [
    "df_pov = df_pov.apply(lambda x: x/100)"
   ]
  },
  {
   "cell_type": "code",
   "execution_count": 49,
   "metadata": {},
   "outputs": [
    {
     "data": {
      "image/png": "[encoded data removed]",
      "text/plain": [
       "<Figure size 720x720 with 1 Axes>"
      ]
     },
     "metadata": {
      "needs_background": "light"
     },
     "output_type": "display_data"
    }
   ],
   "source": [
    "#setting up a plot for a dataset \n",
    "country = 'Algeria'\n",
    "\n",
    "fig = plt.figure(figsize=(10,10))\n",
    "ax1 = fig.add_subplot(111)\n",
    "\n",
    "ax1.scatter(df_life.columns.tolist(),df_life.loc[country],s=10, c='k', marker=\"<\", label = 'Life Exepctancy')\n",
    "ax1.scatter(df_tax.columns.tolist(),df_tax.loc[country],s=10, c='b',marker =\"x\", label = '% Revenue GDP')\n",
    "ax1.scatter(df_gdp.columns.tolist(), df_gdp.loc[country],s=10, c='g', marker=\"o\", label = 'GDP/Capita')\n",
    "ax1.scatter(df_pov.columns.tolist(), df_pov.loc[country],s=10, c='r', marker=\",\", label = '% of People Living Under National Poverty Markers')\n",
    "\n",
    "plt.xticks(rotation=70)\n",
    "plt.xlabel('Year')\n",
    "plt.ylabel('Percentage Relative to Max and Mins ')\n",
    "\n",
    "plt.legend(loc='best');\n",
    "plt.show()"
   ]
  },
  {
   "cell_type": "markdown",
   "metadata": {},
   "source": [
    "Let's step back for a moment and try and determine what I really want to see here. \n",
    "\n",
    "I'f I'm going to be comparing tax revenues as a percentage of GDP against the other markers that I picked, then I want to make a series of graphs comparing each set for a bunch of different countries. Doing them for specific countries seems interesting, but perhaps not big enough. \n",
    "\n",
    "How about I consider splitting them in to quartiles? I'm not particularly ocncerned about outliers at this point - if someone is doing particularly well in this front, then it's probably worth looking at. If I compare them all by their quartiles, then I should be able to make some headway. "
   ]
  },
  {
   "cell_type": "code",
   "execution_count": 21,
   "metadata": {},
   "outputs": [
    {
     "data": {
      "text/plain": [
       "1972     7312.870370\n",
       "1973     7659.564815\n",
       "1974     8204.618182\n",
       "1975     8873.061404\n",
       "1976     9192.086957\n",
       "1977     9156.416667\n",
       "1978     9182.475000\n",
       "1979     9519.776860\n",
       "1980     9551.810606\n",
       "1981     9199.955882\n",
       "1982     8911.507246\n",
       "1983     8863.289855\n",
       "1984     8939.385714\n",
       "1985     8954.765957\n",
       "1986     8858.895833\n",
       "1987     8846.292517\n",
       "1988     8991.275168\n",
       "1989     9208.533333\n",
       "1990     9080.521739\n",
       "1991     9087.567901\n",
       "1992     9045.420732\n",
       "1993     9014.333333\n",
       "1994     9100.167665\n",
       "1995     9347.340909\n",
       "1996     9632.724719\n",
       "1997    10199.194444\n",
       "1998    10431.555556\n",
       "1999    10668.408840\n",
       "2000    11249.467391\n",
       "2001    11321.864865\n",
       "2002    11399.263441\n",
       "2003    11611.688172\n",
       "2004    12029.118280\n",
       "2005    12322.209677\n",
       "2006    12745.360215\n",
       "2007    13085.122995\n",
       "2008    13096.508021\n",
       "2009    12494.850267\n",
       "2010    13966.078947\n",
       "2011    12787.668449\n",
       "2012    12904.198925\n",
       "2013    12987.623656\n",
       "2014    13155.446237\n",
       "2015    13380.529730\n",
       "2016    13579.945652\n",
       "2017    13861.781421\n",
       "dtype: float64"
      ]
     },
     "execution_count": 21,
     "metadata": {},
     "output_type": "execute_result"
    }
   ],
   "source": [
    "df_gdp.mean()"
   ]
  },
  {
   "cell_type": "code",
   "execution_count": null,
   "metadata": {},
   "outputs": [],
   "source": []
  }
 ],
 "metadata": {
  "kernelspec": {
   "display_name": "Python [conda env:dataInvestigation]",
   "language": "python",
   "name": "conda-env-dataInvestigation-py"
  },
  "language_info": {
   "codemirror_mode": {
    "name": "ipython",
    "version": 3
   },
   "file_extension": ".py",
   "mimetype": "text/x-python",
   "name": "python",
   "nbconvert_exporter": "python",
   "pygments_lexer": "ipython3",
   "version": "3.7.0"
  }
 },
 "nbformat": 4,
 "nbformat_minor": 2
}
