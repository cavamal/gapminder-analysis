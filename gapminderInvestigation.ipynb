{
 "cells": [
  {
   "cell_type": "code",
   "execution_count": 3,
   "metadata": {},
   "outputs": [],
   "source": [
    "import requests\n",
    "import lxml.html as lh\n",
    "import pandas as pd\n",
    "from bs4 import BeautifulSoup"
   ]
  },
  {
   "cell_type": "code",
   "execution_count": 14,
   "metadata": {
    "scrolled": false
   },
   "outputs": [
    {
     "data": {
      "text/plain": [
       "[]"
      ]
     },
     "execution_count": 14,
     "metadata": {},
     "output_type": "execute_result"
    }
   ],
   "source": [
    "url='https://www.gapminder.org/data/'\n",
    "#Create a handle, page, to handle the contents of the website\n",
    "page = requests.get(url)\n",
    "#Store the contents of the website under doc\n",
    "doc = BeautifulSoup(page.content,\"html.parser\")\n",
    "#Parse data that are stored between <tr>..</tr> of HTML\n",
    "doc.find_all('tr')"
   ]
  },
  {
   "cell_type": "code",
   "execution_count": 15,
   "metadata": {},
   "outputs": [
    {
     "data": {
      "text/plain": [
       "'\\n\\n\\n\\nData\\n\\n\\n\\n\\n\\n\\n\\n\\n\\n\\n\\n\\r\\n\\tvar mi_track_user      = true;\\r\\n\\tvar mi_no_track_reason = \\'\\';\\r\\n\\t\\r\\n\\tvar disableStr = \\'ga-disable-UA-739025-2\\';\\r\\n\\r\\n\\t/* Function to detect opted out users */\\r\\n\\tfunction __gaTrackerIsOptedOut() {\\r\\n\\t\\treturn document.cookie.indexOf(disableStr + \\'=true\\') > -1;\\r\\n\\t}\\r\\n\\r\\n\\t/* Disable tracking if the opt-out cookie exists. */\\r\\n\\tif ( __gaTrackerIsOptedOut() ) {\\r\\n\\t\\twindow[disableStr] = true;\\r\\n\\t}\\r\\n\\r\\n\\t/* Opt-out function */\\r\\n\\tfunction __gaTrackerOptout() {\\r\\n\\t  document.cookie = disableStr + \\'=true; expires=Thu, 31 Dec 2099 23:59:59 UTC; path=/\\';\\r\\n\\t  window[disableStr] = true;\\r\\n\\t}\\r\\n\\t\\r\\n\\tif ( mi_track_user ) {\\r\\n\\t\\t(function(i,s,o,g,r,a,m){i[\\'GoogleAnalyticsObject\\']=r;i[r]=i[r]||function(){\\r\\n\\t\\t\\t(i[r].q=i[r].q||[]).push(arguments)},i[r].l=1*new Date();a=s.createElement(o),\\r\\n\\t\\t\\tm=s.getElementsByTagName(o)[0];a.async=1;a.src=g;m.parentNode.insertBefore(a,m)\\r\\n\\t\\t})(window,document,\\'script\\',\\'//www.google-analytics.com/analytics.js\\',\\'__gaTracker\\');\\r\\n\\r\\n\\t\\t__gaTracker(\\'create\\', \\'UA-739025-2\\', \\'auto\\');\\n\\t\\t__gaTracker(\\'set\\', \\'forceSSL\\', true);\\n\\t\\t__gaTracker(\\'send\\',\\'pageview\\');\\n\\t} else {\\r\\n\\t\\tconsole.log( \"\" );\\r\\n\\t\\t(function() {\\r\\n\\t\\t\\t/* https://developers.google.com/analytics/devguides/collection/analyticsjs/ */\\r\\n\\t\\t\\tvar noopfn = function() {\\r\\n\\t\\t\\t\\treturn null;\\r\\n\\t\\t\\t};\\r\\n\\t\\t\\tvar noopnullfn = function() {\\r\\n\\t\\t\\t\\treturn null;\\r\\n\\t\\t\\t};\\r\\n\\t\\t\\tvar Tracker = function() {\\r\\n\\t\\t\\t\\treturn null;\\r\\n\\t\\t\\t};\\r\\n\\t\\t\\tvar p = Tracker.prototype;\\r\\n\\t\\t\\tp.get = noopfn;\\r\\n\\t\\t\\tp.set = noopfn;\\r\\n\\t\\t\\tp.send = noopfn;\\r\\n\\t\\t\\tvar __gaTracker = function() {\\r\\n\\t\\t\\t\\tvar len = arguments.length;\\r\\n\\t\\t\\t\\tif ( len === 0 ) {\\r\\n\\t\\t\\t\\t\\treturn;\\r\\n\\t\\t\\t\\t}\\r\\n\\t\\t\\t\\tvar f = arguments[len-1];\\r\\n\\t\\t\\t\\tif ( typeof f !== \\'object\\' || f === null || typeof f.hitCallback !== \\'function\\' ) {\\r\\n\\t\\t\\t\\t\\tconsole.log( \\'Not running function __gaTracker(\\' + arguments[0] + \" ....) because you are not being tracked. \" + mi_no_track_reason );\\r\\n\\t\\t\\t\\t\\treturn;\\r\\n\\t\\t\\t\\t}\\r\\n\\t\\t\\t\\ttry {\\r\\n\\t\\t\\t\\t\\tf.hitCallback();\\r\\n\\t\\t\\t\\t} catch (ex) {\\r\\n\\r\\n\\t\\t\\t\\t}\\r\\n\\t\\t\\t};\\r\\n\\t\\t\\t__gaTracker.create = function() {\\r\\n\\t\\t\\t\\treturn new Tracker();\\r\\n\\t\\t\\t};\\r\\n\\t\\t\\t__gaTracker.getByName = noopnullfn;\\r\\n\\t\\t\\t__gaTracker.getAll = function() {\\r\\n\\t\\t\\t\\treturn [];\\r\\n\\t\\t\\t};\\r\\n\\t\\t\\t__gaTracker.remove = noopfn;\\r\\n\\t\\t\\twindow[\\'__gaTracker\\'] = __gaTracker;\\r\\n\\t\\t\\t\\t\\t})();\\r\\n\\t\\t}\\r\\n\\n\\n\\t\\t\\twindow._wpemojiSettings = {\"baseUrl\":\"https:\\\\/\\\\/s.w.org\\\\/images\\\\/core\\\\/emoji\\\\/2.4\\\\/72x72\\\\/\",\"ext\":\".png\",\"svgUrl\":\"https:\\\\/\\\\/s.w.org\\\\/images\\\\/core\\\\/emoji\\\\/2.4\\\\/svg\\\\/\",\"svgExt\":\".svg\",\"source\":{\"concatemoji\":\"https:\\\\/\\\\/www.gapminder.org\\\\/wp-includes\\\\/js\\\\/wp-emoji-release.min.js?ver=4.9.6\"}};\\n\\t\\t\\t!function(a,b,c){function d(a,b){var c=String.fromCharCode;l.clearRect(0,0,k.width,k.height),l.fillText(c.apply(this,a),0,0);var d=k.toDataURL();l.clearRect(0,0,k.width,k.height),l.fillText(c.apply(this,b),0,0);var e=k.toDataURL();return d===e}function e(a){var b;if(!l||!l.fillText)return!1;switch(l.textBaseline=\"top\",l.font=\"600 32px Arial\",a){case\"flag\":return!(b=d([55356,56826,55356,56819],[55356,56826,8203,55356,56819]))&&(b=d([55356,57332,56128,56423,56128,56418,56128,56421,56128,56430,56128,56423,56128,56447],[55356,57332,8203,56128,56423,8203,56128,56418,8203,56128,56421,8203,56128,56430,8203,56128,56423,8203,56128,56447]),!b);case\"emoji\":return b=d([55357,56692,8205,9792,65039],[55357,56692,8203,9792,65039]),!b}return!1}function f(a){var c=b.createElement(\"script\");c.src=a,c.defer=c.type=\"text/javascript\",b.getElementsByTagName(\"head\")[0].appendChild(c)}var g,h,i,j,k=b.createElement(\"canvas\"),l=k.getContext&&k.getContext(\"2d\");for(j=Array(\"flag\",\"emoji\"),c.supports={everything:!0,everythingExceptFlag:!0},i=0;i<j.length;i++)c.supports[j[i]]=e(j[i]),c.supports.everything=c.supports.everything&&c.supports[j[i]],\"flag\"!==j[i]&&(c.supports.everythingExceptFlag=c.supports.everythingExceptFlag&&c.supports[j[i]]);c.supports.everythingExceptFlag=c.supports.everythingExceptFlag&&!c.supports.flag,c.DOMReady=!1,c.readyCallback=function(){c.DOMReady=!0},c.supports.everything||(h=function(){c.readyCallback()},b.addEventListener?(b.addEventListener(\"DOMContentLoaded\",h,!1),a.addEventListener(\"load\",h,!1)):(a.attachEvent(\"onload\",h),b.attachEvent(\"onreadystatechange\",function(){\"complete\"===b.readyState&&c.readyCallback()})),g=c.source||{},g.concatemoji?f(g.concatemoji):g.wpemoji&&g.twemoji&&(f(g.twemoji),f(g.wpemoji)))}(window,document,window._wpemojiSettings);\\n\\t\\t\\n\\nimg.wp-smiley,\\nimg.emoji {\\n\\tdisplay: inline !important;\\n\\tborder: none !important;\\n\\tbox-shadow: none !important;\\n\\theight: 1em !important;\\n\\twidth: 1em !important;\\n\\tmargin: 0 .07em !important;\\n\\tvertical-align: -0.1em !important;\\n\\tbackground: none !important;\\n\\tpadding: 0 !important;\\n}\\n\\n\\n\\n\\n\\n\\n\\n\\n\\n\\n\\n\\n\\n\\n\\n\\n\\n/* <![CDATA[ */\\nvar monsterinsights_frontend = {\"js_events_tracking\":\"true\",\"is_debug_mode\":\"false\",\"download_extensions\":\"\",\"inbound_paths\":\"\",\"home_url\":\"https:\\\\/\\\\/www.gapminder.org\",\"track_download_as\":\"event\",\"internal_label\":\"int\",\"hash_tracking\":\"false\"};\\n/* ]]> */\\n\\n\\n\\n\\n\\n\\n\\n\\n\\n\\n\\n\\n\\nvar _prum = [[\\'id\\', \\'519f518cabe53d733f000000\\'],\\n             [\\'mark\\', \\'firstbyte\\', (new Date()).getTime()]];\\n(function() {\\n    var s = document.getElementsByTagName(\\'script\\')[0]\\n      , p = document.createElement(\\'script\\');\\n    p.async = \\'async\\';\\n    p.src = \\'//rum-static.pingdom.net/prum.min.js\\';\\n    s.parentNode.insertBefore(p, s);\\n})();\\n\\n\\n\\n\\n\\n\\n\\n\\n\\n\\n\\n\\n\\n\\n\\n\\n\\n\\n\\n\\n\\n\\n\\n\\n\\r\\n        jQuery(document).ready(function(){ \\r\\n            jQuery(\\'body\\').removeClass(\\'open-menu\\');\\r\\n            jQuery(\\'#primary-menu .menu\\').click(function() {\\r\\n                jQuery(\\'body\\').toggleClass(\\'open-menu\\')\\r\\n            });\\r\\n            jQuery(\\'#primary\\').append(\\'<div style=\"clear: both\"></div>\\');\\r\\n            jQuery(\\'#search\\').click(function(){\\r\\n                jQuery(\\'#search input\\').focus();\\r\\n            });\\r\\n        });\\r\\n\\r\\n        jQuery(window).load(function(){\\r\\n            if (!jQuery(\\'.home\\').length) {\\r\\n                jQuery(\\'#body-container\\').css(\\'min-height\\', (jQuery(window).height()  -133));\\r\\n                jQuery(\\'.content\\').css(\\'min-height\\', (jQuery(\\'#primary\\').height() + 50));\\r\\n            }\\r\\n        });\\r\\n        jQuery(window).resize(function(){\\r\\n            if (!jQuery(\\'.home\\').length) {\\r\\n                jQuery(\\'#body-container\\').css(\\'min-height\\', (jQuery(window).height()  -133));\\r\\n                jQuery(\\'.content\\').css(\\'min-height\\', (jQuery(\\'#primary\\').height() + 50));\\r\\n            }\\r\\n        });\\r\\n\\t\\n\\n\\t\\t\\t/*\\nYou can add your own CSS here.\\n\\nClick the help icon above to learn more.\\n*/\\n.button-download {\\n\\tdisplay: inline-block;\\n\\tbackground-color: #f5f5f5;\\n\\tbackground-image: -webkit-linear-gradient(top,#f5f5f5,#f1f1f1);\\n\\tbackground-image: -moz-linear-gradient(top,#f5f5f5,#f1f1f1);\\n\\tbackground-image: -ms-linear-gradient(top,#f5f5f5,#f1f1f1);\\n\\tbackground-image: -o-linear-gradient(top,#f5f5f5,#f1f1f1);\\n\\tbackground-image: linear-gradient(top,#f5f5f5,#f1f1f1);\\n\\tcolor: #444;\\n\\t\\n\\tborder: 1px solid #dcdcdc;\\n\\t-webkit-border-radius: 2px;\\n\\t-moz-border-radius: 2px;\\n\\tborder-radius: 2px;\\n\\t\\n\\tcursor: pointer;\\n\\tfont-size: 11px;\\n\\t//font-weight: bold;\\n\\ttext-align: center;\\n\\t//height: 27px;\\n\\t//line-height: 27px;\\n\\tmin-width: 54px;\\n\\tpadding: 0 10px;\\n\\ttext-decoration: none;\\n}\\n\\n.button-download:hover {\\n\\tbackground-color: #F8F8F8;\\n\\tbackground-image: -webkit-linear-gradient(top,#f8f8f8,#f1f1f1);\\n\\tbackground-image: -moz-linear-gradient(top,#f8f8f8,#f1f1f1);\\n\\tbackground-image: -ms-linear-gradient(top,#f8f8f8,#f1f1f1);\\n\\tbackground-image: -o-linear-gradient(top,#f8f8f8,#f1f1f1);\\n\\tbackground-image: linear-gradient(top,#f8f8f8,#f1f1f1);\\n\\t\\n\\tborder: 1px solid #C6C6C6;\\n\\tcolor: #333;\\n\\t\\n\\t-webkit-box-shadow: 0px 1px 1px rgba(0,0,0,.1);\\n\\t-moz-box-shadow: 0px 1px 1px rgba(0,0,0,.1);\\n\\tbox-shadow: 0px 1px 1px rgba(0,0,0,.1);\\n}\\n\\n.button-download.default:active {\\n\\t-webkit-box-shadow: inset 0px 1px 2px rgba(0,0,0,.1);\\n\\t-moz-box-shadow: inset 0px 1px 2px rgba(0,0,0,.1);\\n\\tbox-shadow: inset 0px 1px 2px rgba(0,0,0,.1);\\n\\tcolor: black;\\n}\\t\\t\\n\\r\\n\\t\\r\\n/*quickfix menu*/\\r\\n\\r\\n.big-menu .menu {\\r\\n\\r\\n\\twidth: unset;\\r\\n\\t\\r\\n}\\r\\n\\r\\n.videoWrapper {\\r\\n\\tposition: relative;\\r\\n\\tpadding-bottom: 56.25%; /* 16:9 */\\r\\n\\tpadding-top: 25px;\\r\\n\\theight: 0;\\r\\n}\\r\\n.videoWrapper object,\\r\\n.videoWrapper embed,\\r\\n.videoWrapper iframe {\\r\\n\\tposition: absolute;\\r\\n\\ttop: 0;\\r\\n\\tleft: 0;\\r\\n\\twidth: 100%;\\r\\n\\theight: 100%;\\r\\n}\\r\\n\\r\\n.entry-content img {height: auto !important;}\\r\\n\\r\\n\\r\\n\\n\\n\\n\\n\\n\\n \\n\\n\\n\\n\\n\\n\\nGapminder\\n\\n\\n\\n\\n\\nTools\\nDollar Street\\nVideos\\nDownloads\\nTeach\\nIgnorance\\nData\\n\\n\\n\\n\\n\\n(function() {\\n    //Google Custom Search components initialization\\n    //\\n\\n    var myCallback = function() {\\n        if (document.readyState == \\'complete\\') {\\n            // Document is ready when CSE element is initialized.\\n            initGoogleComponents();\\n        } else {\\n            // Document is not ready yet, when CSE element is initialized.\\n            google.setOnLoadCallback(function() {\\n                initGoogleComponents();\\n            });\\n        }\\n    };\\n\\n    function initGoogleComponents () {\\n        google.search.cse.element.render({\\n            div: \"google-nav-search-box-container\",\\n            tag: \\'searchbox-only\\'\\n        });\\n        google.search.cse.element.render({\\n            div: \"google-big-search-box-container\",\\n            tag: \\'searchbox-only\\'\\n        });\\n        google.search.cse.element.render({\\n            div: \"google-search-results-container\",\\n            tag: \\'searchresults-only\\'\\n        });\\n        var $container = jQuery(\\'#google-nav-search-box-container\\');\\n        var $search = jQuery(\\'#google-nav-search-box-container input.gsc-input\\');\\n        if($search.val() != \\'\\') {\\n            $container.addClass(\\'focused\\');\\n        }\\n        $search.bind(\\'focusin\\', function() {\\n            $container.addClass(\\'focused\\');\\n        });\\n        $search.bind(\\'focusout\\', function() {\\n            if($search.val() == \\'\\') {\\n                $container.removeClass(\\'focused\\');\\n            }\\n        });\\n    }\\n\\n    window.__gcse = {\\n        parsetags: \\'explicit\\',\\n        callback: myCallback\\n    };\\n\\n    var cx = \\'011760643686675649438:usn4ikfmofa\\';\\n    var gcse = document.createElement(\\'script\\');\\n    gcse.type = \\'text/javascript\\';\\n    gcse.async = true;\\n    gcse.src = (document.location.protocol == \\'https:\\' ? \\'https:\\' : \\'http:\\') +\\n        \\'//www.google.com/cse/cse.js?cx=\\' + cx;\\n    var s = document.getElementsByTagName(\\'script\\')[0];\\n    s.parentNode.insertBefore(gcse, s);\\n})();\\n\\n\\n\\n\\nData\\n\\nList of indicators\\xa0\\xa0Doubt\\xa0\\xa0\\nGeography\\xa0\\xa0\\nDocumentation\\xa0\\xa0\\nData blog\\xa0\\xa0\\n\\n\\nThe table below lists all indicators displayed in Gapminder World.\\xa0Click the name of the indicator or the data provider to access information about the indicator and a link to the data provider.\\nIndicators labeled “Various sources” are compiled by Gapminder. They can be reused freely but please attribute Gapminder.\\nList of indicators in Gapminder World (❌outdated, scroll down for the new ones)\\n\\n\\nList of indicators in Gapminder Tools (✅data currently used)\\nThis is an experimental data-viewing tool aimed to soon replace the one above. Please try to use it and tell us what you miss or if anything isn’t working. Direct email\\n\\n\\n\\n\\n\\n\\n\\n\\n\\n\\n\\n\\n\\n\\n\\n\\n\\nGapminder Tools\\nFor Teachers\\nLINE BREAK\\nAbout\\nContact\\nBlog\\nDonate\\nTerms\\nMedia\\nHelp\\nLabs\\nReport Problem\\n\\n\\n\\n\\nif (typeof GSFN !== \"undefined\") { GSFN.loadWidget(3392,{\"containerId\":\"getsat-widget-3392\"}); }\\n\\n\\n\\n \\n\\nI have read and understood the terms governing the use and download of this film as informed on the Noncommercial - No Derivative Educational Licence and I certify that it will be used for educational purposes only \\n\\n\\n\\n\\n\\n\\n\\n\\n\\n\\n/* <![CDATA[ */\\nvar sc_coup = {\"ajaxurl\":\"https:\\\\/\\\\/www.gapminder.org\\\\/wp-admin\\\\/admin-ajax.php\"};\\nvar sc_script = null;\\n/* ]]> */\\n\\n\\n\\n\\n\\n\\n\\n\\n\\n\\n\\n\\n\\n/* <![CDATA[ */\\nvar spGeneral = {\"strings\":{\"currency\":\"USD\",\"currencySymbol\":\"$\",\"currencyPosition\":\"left\",\"decimalSeparator\":\".\",\"thousandSeparator\":\",\",\"ajaxurl\":\"https:\\\\/\\\\/www.gapminder.org\\\\/wp-admin\\\\/admin-ajax.php\"},\"booleans\":{\"isZeroDecimal\":false,\"scriptDebug\":false},\"i18n\":{\"mediaTitle\":\"Insert Media\",\"mediaButtonText\":\"Use Image\",\"limitPaymentButtonField\":\"You may only add one Payment Button field per form.\",\"limitCustomAmountField\":\"You may only add one Custom Amount Field per form.\",\"limitPlanSelectField\":\"You may only add one Subscription Plan Select field per form.\",\"limitCouponField\":\"You may only add one Coupon field per form.\",\"limitRecurringAmountToggleField\":\"You may only add one Recurring Amount Toggle field per form\",\"limitMaxFields\":\"The maximum number of fields is 20.\",\"couponPercentOffText\":\"% off\",\"couponAmountOffText\":\"off\"},\"integers\":{\"decimalPlaces\":2,\"minAmount\":1}};\\n/* ]]> */\\n\\n\\n\\n/* <![CDATA[ */\\nvar simplePayForms = [];\\n/* ]]> */\\n\\n\\n\\n\\n\\njQuery(document).ready(function(jQuery){jQuery.datepicker.setDefaults({\"closeText\":\"Close\",\"currentText\":\"Today\",\"monthNames\":[\"January\",\"February\",\"March\",\"April\",\"May\",\"June\",\"July\",\"August\",\"September\",\"October\",\"November\",\"December\"],\"monthNamesShort\":[\"Jan\",\"Feb\",\"Mar\",\"Apr\",\"May\",\"Jun\",\"Jul\",\"Aug\",\"Sep\",\"Oct\",\"Nov\",\"Dec\"],\"nextText\":\"Next\",\"prevText\":\"Previous\",\"dayNames\":[\"Sunday\",\"Monday\",\"Tuesday\",\"Wednesday\",\"Thursday\",\"Friday\",\"Saturday\"],\"dayNamesShort\":[\"Sun\",\"Mon\",\"Tue\",\"Wed\",\"Thu\",\"Fri\",\"Sat\"],\"dayNamesMin\":[\"S\",\"M\",\"T\",\"W\",\"T\",\"F\",\"S\"],\"dateFormat\":\"MM d, yy\",\"firstDay\":1,\"isRTL\":false});});\\n\\n\\n\\n\\n\\n\\n'"
      ]
     },
     "execution_count": 15,
     "metadata": {},
     "output_type": "execute_result"
    }
   ],
   "source": [
    "doc.get_text()"
   ]
  },
  {
   "cell_type": "code",
   "execution_count": 16,
   "metadata": {},
   "outputs": [
    {
     "data": {
      "text/plain": [
       "<Element html at 0x21aac682ea8>"
      ]
     },
     "execution_count": 16,
     "metadata": {},
     "output_type": "execute_result"
    }
   ],
   "source": [
    "doc"
   ]
  },
  {
   "cell_type": "code",
   "execution_count": 19,
   "metadata": {},
   "outputs": [
    {
     "data": {
      "text/plain": [
       "[]"
      ]
     },
     "execution_count": 19,
     "metadata": {},
     "output_type": "execute_result"
    }
   ],
   "source": [
    "tr_elements"
   ]
  },
  {
   "cell_type": "code",
   "execution_count": 18,
   "metadata": {},
   "outputs": [
    {
     "data": {
      "text/plain": [
       "[]"
      ]
     },
     "execution_count": 18,
     "metadata": {},
     "output_type": "execute_result"
    }
   ],
   "source": [
    "#Check the length of the first 12 rows\n",
    "[len(T) for T in tr_elements[:12]]"
   ]
  },
  {
   "cell_type": "code",
   "execution_count": 13,
   "metadata": {},
   "outputs": [
    {
     "name": "stdout",
     "output_type": "stream",
     "text": [
      "1:\"#\"\n",
      "2:\"Name\"\n",
      "3:\"Type\"\n",
      "4:\"Total\"\n",
      "5:\"HP\"\n",
      "6:\"Attack\"\n",
      "7:\"Defense\"\n",
      "8:\"Sp. Atk\"\n",
      "9:\"Sp. Def\"\n",
      "10:\"Speed\"\n"
     ]
    }
   ],
   "source": [
    "tr_elements = doc.xpath('//tr')\n",
    "#Create empty list\n",
    "col=[]\n",
    "i=0\n",
    "#For each row, store each first element (header) and an empty list\n",
    "for t in tr_elements[0]:\n",
    "    i+=1\n",
    "    name=t.text_content()\n",
    "    print ('%d:\"%s\"'%(i,name))\n",
    "    col.append((name,[]))"
   ]
  },
  {
   "cell_type": "code",
   "execution_count": null,
   "metadata": {},
   "outputs": [],
   "source": []
  }
 ],
 "metadata": {
  "kernelspec": {
   "display_name": "Python [conda env:dataInvestigation]",
   "language": "python",
   "name": "conda-env-dataInvestigation-py"
  },
  "language_info": {
   "codemirror_mode": {
    "name": "ipython",
    "version": 3
   },
   "file_extension": ".py",
   "mimetype": "text/x-python",
   "name": "python",
   "nbconvert_exporter": "python",
   "pygments_lexer": "ipython3",
   "version": "3.7.0"
  }
 },
 "nbformat": 4,
 "nbformat_minor": 2
}
